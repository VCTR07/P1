{
  "nbformat": 4,
  "nbformat_minor": 0,
  "metadata": {
    "colab": {
      "name": "BFS - Busca em Largura com Matriz de Adjacências",
      "provenance": [],
      "collapsed_sections": [],
      "authorship_tag": "ABX9TyM/5/m+YAm0c9wxnapdk2h9",
      "include_colab_link": true
    },
    "kernelspec": {
      "name": "python3",
      "display_name": "Python 3"
    },
    "language_info": {
      "name": "python"
    }
  },
  "cells": [
    {
      "cell_type": "markdown",
      "metadata": {
        "id": "view-in-github",
        "colab_type": "text"
      },
      "source": [
        "<a href=\"https://colab.research.google.com/github/VCTR07/P1/blob/master/BFS_Busca_em_Largura_com_Matriz_de_Adjac%C3%AAncias.ipynb\" target=\"_parent\"><img src=\"https://colab.research.google.com/assets/colab-badge.svg\" alt=\"Open In Colab\"/></a>"
      ]
    },
    {
      "cell_type": "markdown",
      "metadata": {
        "id": "-nyT_EgpV3q4"
      },
      "source": [
        "#BFS - Busca em Largura com Matriz de Adjacências"
      ]
    },
    {
      "cell_type": "code",
      "metadata": {
        "id": "-MmnPpjUV2Hf"
      },
      "source": [
        "from queue import Queue\n",
        "\n",
        "adj_list = {\n",
        "    \"A\":[\"B\", \"D\"],\n",
        "    \"B\":[\"A\",\"C\"],\n",
        "    \"C\":[\"B\"],\n",
        "    \"D\":[\"A\",\"E\",\"F\"],\n",
        "    \"E\":[\"D\",\"F\",\"G\"],\n",
        "    \"F\":[\"D\",\"E\",\"H\"],\n",
        "    \"G\":[\"E\",\"H\"],\n",
        "    \"H\":[\"G\",\"F\"]\n",
        "}"
      ],
      "execution_count": 1,
      "outputs": []
    },
    {
      "cell_type": "code",
      "metadata": {
        "colab": {
          "base_uri": "https://localhost:8080/"
        },
        "id": "_tF3DZzFXRGu",
        "outputId": "19b203b4-6b25-4f2b-d4dd-92d9c3a00694"
      },
      "source": [
        "#bfs code\n",
        "visited ={} # visitados\n",
        "level={} # dicionário de distância\n",
        "parent={} # pai de cada nó\n",
        "bfs_traversal_ouput =[] #lista de vértices visitados\n",
        "queue = Queue() # criando a fila\n",
        "\n",
        "for node in adj_list.keys(): #inicializando os dicionários\n",
        "  visited[node] = False # definindo por padrão Falso\n",
        "  parent[node] = None # definindo por padrão None\n",
        "  level[node]=-1 #inf\n",
        "\n",
        "print (visited)\n",
        "print (level)\n",
        "print (parent)\n",
        "\n",
        "s=\"A\" # definindo o nó de origem\n",
        "visited[s]=True # marcando o nó de origem como visitado\n",
        "level[s]=0 #definindo o nível do nó de origem\n",
        "#parent - por ser o nó de origem pemanecerá com o padrão None\n",
        "queue.put(s) # adicionando o nó de origem à fila\n",
        "\n",
        "while not queue.empty(): # executa enquanto a fila não estiver vazia\n",
        "  u=queue.get()\n",
        "  bfs_traversal_ouput.append(u) #adicionando o elemento u à lista de vertices visitados\n",
        "\n",
        "  for v in adj_list[u]: #explorando os vértices adjacentes\n",
        "    if not visited[v]: # verifica se o vértice já foi visitado\n",
        "      visited[v] = True # o vértice é marcado como visitado\n",
        "      parent[v] = u # atribuindo o pai do vértice visitado\n",
        "      level[v] = level[u]+1 #calculando o nível do nó visitado\n",
        "      queue.put(v) #adicionando o nó visitado à fila\n",
        "\n",
        "print (bfs_traversal_ouput)\n"
      ],
      "execution_count": 4,
      "outputs": [
        {
          "output_type": "stream",
          "name": "stdout",
          "text": [
            "{'A': False, 'B': False, 'C': False, 'D': False, 'E': False, 'F': False, 'G': False, 'H': False}\n",
            "{'A': -1, 'B': -1, 'C': -1, 'D': -1, 'E': -1, 'F': -1, 'G': -1, 'H': -1}\n",
            "{'A': None, 'B': None, 'C': None, 'D': None, 'E': None, 'F': None, 'G': None, 'H': None}\n",
            "['A', 'B', 'D', 'C', 'E', 'F', 'G', 'H']\n"
          ]
        }
      ]
    },
    {
      "cell_type": "code",
      "metadata": {
        "colab": {
          "base_uri": "https://localhost:8080/"
        },
        "id": "LZSvUiNpiUc0",
        "outputId": "273bf182-d6d8-41df-907b-94450d3eb618"
      },
      "source": [
        "#Distância entre o nó e a origem\n",
        "print(level)"
      ],
      "execution_count": 5,
      "outputs": [
        {
          "output_type": "stream",
          "name": "stdout",
          "text": [
            "{'A': 0, 'B': 1, 'C': 2, 'D': 1, 'E': 2, 'F': 2, 'G': 3, 'H': 3}\n"
          ]
        }
      ]
    },
    {
      "cell_type": "code",
      "metadata": {
        "colab": {
          "base_uri": "https://localhost:8080/"
        },
        "id": "yJ5p1mZPjFGA",
        "outputId": "06fe61bb-a829-49c1-83c8-6c2116b55006"
      },
      "source": [
        "# O caminho mais curto entre algum nó e a origem\n",
        "\n",
        "v =\"G\"\n",
        "path = []\n",
        "while v is not None:\n",
        "  path.append(v)\n",
        "  v = parent[v]\n",
        "path.reverse()\n",
        "print(path)"
      ],
      "execution_count": 6,
      "outputs": [
        {
          "output_type": "stream",
          "name": "stdout",
          "text": [
            "['A', 'D', 'E', 'G']\n"
          ]
        }
      ]
    }
  ]
}