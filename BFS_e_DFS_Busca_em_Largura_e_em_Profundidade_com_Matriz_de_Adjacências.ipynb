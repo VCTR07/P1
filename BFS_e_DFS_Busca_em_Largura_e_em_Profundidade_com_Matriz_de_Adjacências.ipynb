{
  "nbformat": 4,
  "nbformat_minor": 0,
  "metadata": {
    "colab": {
      "name": "BFS e DFS - Busca em Largura e em Profundidade com Matriz de Adjacências",
      "provenance": [],
      "collapsed_sections": [],
      "authorship_tag": "ABX9TyOwXPX/eIFlrI5+uIxpU4u4",
      "include_colab_link": true
    },
    "kernelspec": {
      "name": "python3",
      "display_name": "Python 3"
    },
    "language_info": {
      "name": "python"
    }
  },
  "cells": [
    {
      "cell_type": "markdown",
      "metadata": {
        "id": "view-in-github",
        "colab_type": "text"
      },
      "source": [
        "<a href=\"https://colab.research.google.com/github/VCTR07/P1/blob/master/BFS_e_DFS_Busca_em_Largura_e_em_Profundidade_com_Matriz_de_Adjac%C3%AAncias.ipynb\" target=\"_parent\"><img src=\"https://colab.research.google.com/assets/colab-badge.svg\" alt=\"Open In Colab\"/></a>"
      ]
    },
    {
      "cell_type": "markdown",
      "metadata": {
        "id": "-nyT_EgpV3q4"
      },
      "source": [
        "#BFS e DFS - Busca em Largura e em Profundidade com Matriz de Adjacências"
      ]
    },
    {
      "cell_type": "markdown",
      "metadata": {
        "id": "kktG1FZYjt57"
      },
      "source": [
        "Grupo: Victor Emanuel e Caio"
      ]
    },
    {
      "cell_type": "markdown",
      "metadata": {
        "id": "rtYEntAEkAy3"
      },
      "source": [
        "#BFS - Busca em Largura"
      ]
    },
    {
      "cell_type": "code",
      "metadata": {
        "id": "-MmnPpjUV2Hf"
      },
      "source": [
        "from queue import Queue\n",
        "\n",
        "adj_list = {\n",
        "    \"A\":[\"B\", \"D\"],\n",
        "    \"B\":[\"A\",\"C\"],\n",
        "    \"C\":[\"B\"],\n",
        "    \"D\":[\"A\",\"E\",\"F\"],\n",
        "    \"E\":[\"D\",\"F\",\"G\"],\n",
        "    \"F\":[\"D\",\"E\",\"H\"],\n",
        "    \"G\":[\"E\",\"H\"],\n",
        "    \"H\":[\"G\",\"F\"]\n",
        "}"
      ],
      "execution_count": 1,
      "outputs": []
    },
    {
      "cell_type": "code",
      "metadata": {
        "colab": {
          "base_uri": "https://localhost:8080/"
        },
        "id": "_tF3DZzFXRGu",
        "outputId": "cb1fbd80-6fcc-44dc-ff88-2afa74f9a4a4"
      },
      "source": [
        "#bfs code\n",
        "visited ={} # visitados\n",
        "level={} # dicionário de distância\n",
        "parent={} # pai de cada nó\n",
        "bfs_traversal_ouput =[] #lista de vértices visitados\n",
        "queue = Queue() # criando a fila\n",
        "\n",
        "for node in adj_list.keys(): #inicializando os dicionários\n",
        "  visited[node] = False # definindo por padrão Falso\n",
        "  parent[node] = None # definindo por padrão None\n",
        "  level[node]=-1 #inf\n",
        "\n",
        "print (visited)\n",
        "print (level)\n",
        "print (parent)\n",
        "\n",
        "s=\"A\" # definindo o nó de origem\n",
        "visited[s]=True # marcando o nó de origem como visitado\n",
        "level[s]=0 #definindo o nível do nó de origem\n",
        "#parent - por ser o nó de origem pemanecerá com o padrão None\n",
        "queue.put(s) # adicionando o nó de origem à fila\n",
        "\n",
        "while not queue.empty(): # executa enquanto a fila não estiver vazia\n",
        "  u=queue.get()\n",
        "  bfs_traversal_ouput.append(u) #adicionando o elemento u à lista de vertices visitados\n",
        "\n",
        "  for v in adj_list[u]: #explorando os vértices adjacentes\n",
        "    if not visited[v]: # verifica se o vértice já foi visitado\n",
        "      visited[v] = True # o vértice é marcado como visitado\n",
        "      parent[v] = u # atribuindo o pai do vértice visitado\n",
        "      level[v] = level[u]+1 #calculando o nível do nó visitado\n",
        "      queue.put(v) #adicionando o nó visitado à fila\n",
        "\n",
        "print (bfs_traversal_ouput)\n"
      ],
      "execution_count": 2,
      "outputs": [
        {
          "output_type": "stream",
          "name": "stdout",
          "text": [
            "{'A': False, 'B': False, 'C': False, 'D': False, 'E': False, 'F': False, 'G': False, 'H': False}\n",
            "{'A': -1, 'B': -1, 'C': -1, 'D': -1, 'E': -1, 'F': -1, 'G': -1, 'H': -1}\n",
            "{'A': None, 'B': None, 'C': None, 'D': None, 'E': None, 'F': None, 'G': None, 'H': None}\n",
            "['A', 'B', 'D', 'C', 'E', 'F', 'G', 'H']\n"
          ]
        }
      ]
    },
    {
      "cell_type": "code",
      "metadata": {
        "colab": {
          "base_uri": "https://localhost:8080/"
        },
        "id": "LZSvUiNpiUc0",
        "outputId": "1982da3f-8ec3-49ba-f693-d03bb76e9710"
      },
      "source": [
        "#Distância entre o nó e a origem\n",
        "print(level)"
      ],
      "execution_count": 3,
      "outputs": [
        {
          "output_type": "stream",
          "name": "stdout",
          "text": [
            "{'A': 0, 'B': 1, 'C': 2, 'D': 1, 'E': 2, 'F': 2, 'G': 3, 'H': 3}\n"
          ]
        }
      ]
    },
    {
      "cell_type": "code",
      "metadata": {
        "colab": {
          "base_uri": "https://localhost:8080/"
        },
        "id": "yJ5p1mZPjFGA",
        "outputId": "f4d16037-3f71-4aa0-ac8e-d0a5a68bd710"
      },
      "source": [
        "# O caminho mais curto entre algum nó e a origem\n",
        "\n",
        "v =\"G\"\n",
        "path = []\n",
        "while v is not None:\n",
        "  path.append(v)\n",
        "  v = parent[v]\n",
        "path.reverse()\n",
        "print(path)"
      ],
      "execution_count": 4,
      "outputs": [
        {
          "output_type": "stream",
          "name": "stdout",
          "text": [
            "['A', 'D', 'E', 'G']\n"
          ]
        }
      ]
    },
    {
      "cell_type": "markdown",
      "metadata": {
        "id": "qf6xjeFPZzs2"
      },
      "source": [
        "#DFS - Busca em Profundidade"
      ]
    },
    {
      "cell_type": "code",
      "metadata": {
        "id": "gnLjzmbfZrst"
      },
      "source": [
        "# Representação do grafo\n",
        "adj_list = {\n",
        "    \"A\":[\"B\",\"C\"],\n",
        "    \"B\":[\"D\",\"E\"],\n",
        "    \"C\":[\"B\",\"F\"],\n",
        "    \"D\":[],\n",
        "    \"E\":[\"F\"],\n",
        "    \"F\":[]\n",
        "}"
      ],
      "execution_count": 5,
      "outputs": []
    },
    {
      "cell_type": "code",
      "metadata": {
        "id": "QeSwCCuEZzNc",
        "outputId": "cbbadf89-dae0-4598-cf1f-549b0cc26d9a",
        "colab": {
          "base_uri": "https://localhost:8080/"
        }
      },
      "source": [
        "#Criando listas e dicionários\n",
        "color ={} #Branco - W, cinza - G, Preto - B\n",
        "parent = {}\n",
        "trav_time = {} #[start, ent]\n",
        "dfs_traversal_output=[]\n",
        "\n",
        "#Inicializando listas e dicionários\n",
        "for node in adj_list.keys():\n",
        "  color[node]=\"W\"\n",
        "  parent[node]=None\n",
        "  trav_time[node]=[-1,-1]\n",
        "\n",
        "print(color)\n",
        "print(parent)\n",
        "print(trav_time)\n",
        "\n",
        "time=0\n",
        "def dfs_util(u):\n",
        "  global time\n",
        "  color[u]=\"G\"\n",
        "  trav_time[u][0] = time\n",
        "  dfs_traversal_output.append(u)\n",
        "  time +=1\n",
        "\n",
        "  for v in adj_list[u]:\n",
        "    if color[v] == \"W\":\n",
        "      parent[v]=u\n",
        "      dfs_util(v)\n",
        "  color[u]=\"B\"\n",
        "  trav_time[u][1] = time\n",
        "  time+=1\n",
        "\n",
        "dfs_util(\"A\")\n",
        "print(dfs_traversal_output)\n",
        "print(parent)\n",
        "print(trav_time)\n",
        "\n"
      ],
      "execution_count": 6,
      "outputs": [
        {
          "output_type": "stream",
          "name": "stdout",
          "text": [
            "{'A': 'W', 'B': 'W', 'C': 'W', 'D': 'W', 'E': 'W', 'F': 'W'}\n",
            "{'A': None, 'B': None, 'C': None, 'D': None, 'E': None, 'F': None}\n",
            "{'A': [-1, -1], 'B': [-1, -1], 'C': [-1, -1], 'D': [-1, -1], 'E': [-1, -1], 'F': [-1, -1]}\n",
            "['A', 'B', 'D', 'E', 'F', 'C']\n",
            "{'A': None, 'B': 'A', 'C': 'A', 'D': 'B', 'E': 'B', 'F': 'E'}\n",
            "{'A': [0, 11], 'B': [1, 8], 'C': [9, 10], 'D': [2, 3], 'E': [4, 7], 'F': [5, 6]}\n"
          ]
        }
      ]
    },
    {
      "cell_type": "code",
      "metadata": {
        "id": "I8MztQ6jh-uR",
        "outputId": "6ee951e9-0ee7-4b86-8331-7961b8b1b191",
        "colab": {
          "base_uri": "https://localhost:8080/"
        }
      },
      "source": [
        "for node in adj_list.keys():\n",
        "  print(node, \"->\", trav_time[node])"
      ],
      "execution_count": 7,
      "outputs": [
        {
          "output_type": "stream",
          "name": "stdout",
          "text": [
            "A -> [0, 11]\n",
            "B -> [1, 8]\n",
            "C -> [9, 10]\n",
            "D -> [2, 3]\n",
            "E -> [4, 7]\n",
            "F -> [5, 6]\n"
          ]
        }
      ]
    }
  ]
}