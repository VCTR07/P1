{
  "nbformat": 4,
  "nbformat_minor": 0,
  "metadata": {
    "colab": {
      "name": "CaixeiroViajante.ipynb",
      "provenance": [],
      "collapsed_sections": [],
      "authorship_tag": "ABX9TyNzT/wPS2OqrfIU7wXpjdw1",
      "include_colab_link": true
    },
    "kernelspec": {
      "name": "python3",
      "display_name": "Python 3"
    },
    "language_info": {
      "name": "python"
    }
  },
  "cells": [
    {
      "cell_type": "markdown",
      "metadata": {
        "id": "view-in-github",
        "colab_type": "text"
      },
      "source": [
        "<a href=\"https://colab.research.google.com/github/VCTR07/P1/blob/master/CaixeiroViajante.ipynb\" target=\"_parent\"><img src=\"https://colab.research.google.com/assets/colab-badge.svg\" alt=\"Open In Colab\"/></a>"
      ]
    },
    {
      "cell_type": "markdown",
      "metadata": {
        "id": "KIoPq9kyKxZi"
      },
      "source": [
        "Grupo Victor e Caio"
      ]
    },
    {
      "cell_type": "markdown",
      "metadata": {
        "id": "jP0kBdi7l6Ib"
      },
      "source": [
        "#Caixeiro Viajante"
      ]
    },
    {
      "cell_type": "markdown",
      "metadata": {
        "id": "vAj0uxp9mFjE"
      },
      "source": [
        "Testado com 12 pontos - Tempo de execução(em segundos): 310.53056740760803 (ou 5.16 minutos)"
      ]
    },
    {
      "cell_type": "code",
      "metadata": {
        "id": "9ASYscn8ipB7"
      },
      "source": [
        "from sys import maxsize\n",
        "from itertools import permutations\n",
        "import string\n",
        "import random\n",
        "import time\n",
        "import math\n",
        "\n",
        "class ponto:\n",
        "    def __init__(self, nome, coordenadas):\n",
        "        self.nome = nome\n",
        "        self.coordenadas = coordenadas\n",
        "        self.descricao = '{} - {}'.format(nome, coordenadas)\n",
        "\n",
        "class ContinueI(Exception):\n",
        "            pass\n",
        "\n",
        "continue_i = ContinueI()\n",
        "\n",
        "# Cria lista aleatória de pontos\n",
        "def cria_pontos(qtd_pontos):\n",
        "    pontos = []\n",
        "\n",
        "    nome_ponto = 0\n",
        "    for indice in range(qtd_pontos):\n",
        "        novo_ponto = ponto(\n",
        "            string.ascii_uppercase[nome_ponto],\n",
        "            (random.randrange(indice, 101), random.randrange(indice, 101))\n",
        "        )\n",
        "        nome_ponto += 1\n",
        "        pontos.append(novo_ponto)\n",
        "        print(novo_ponto.descricao)\n",
        "\n",
        "    return pontos\n",
        "\n",
        "# Calcula a distancia entre 2 pontos\n",
        "def distancia(ponto1,ponto2):\n",
        "    return math.sqrt((ponto2.coordenadas[0] - ponto1.coordenadas[0])**2 + (ponto2.coordenadas[1] - ponto1.coordenadas[1])**2)\n",
        "\n",
        "# Troca indice por nome do ponto para exibição\n",
        "def processa_menor_caminho(menor_caminho):\n",
        "    caminho = []\n",
        "    for ponto in menor_caminho:\n",
        "        caminho.append(pontos[ponto].nome)\n",
        "    return caminho\n",
        "\n",
        "def PCV(pontos, ponto_inicial):\n",
        "\n",
        "    def igual_ponto_inicial(ponto):\n",
        "        return ponto != ponto_inicial\n",
        "\n",
        "    # Guarda todas as pontos menos a inicial\n",
        "    pontos_sem_inicial = list(filter(igual_ponto_inicial , range(len(pontos))))\n",
        "\n",
        "    # Cria todos os possíveis caminhos sem o ponto inicial\n",
        "    caminhos = list(permutations(pontos_sem_inicial))\n",
        "\n",
        "    print('\\nCaminhos possíveis: {}'.format(len(caminhos)))\n",
        "\n",
        "    # Inicia o peso do menor caminho com um valor muito alto\n",
        "    peso_menor_caminho = maxsize\n",
        "\n",
        "    # Calcula o custo de cada caminho\n",
        "    for caminho in caminhos:\n",
        "        # Armazena o valor do caminho atual\n",
        "        peso_caminho_atual = 0\n",
        "\n",
        "        # Calcula o custo do caminho atual\n",
        "        ponto_atual = ponto_inicial\n",
        "\n",
        "        try:\n",
        "            for ponto in caminho:\n",
        "                peso_caminho_atual += distancia(pontos[ponto_atual], pontos[ponto])\n",
        "                if peso_caminho_atual > peso_menor_caminho:\n",
        "                    raise continue_i\n",
        "                ponto_atual = ponto\n",
        "        except ContinueI:\n",
        "            continue\n",
        "        \n",
        "        peso_caminho_atual += distancia(pontos[ponto_atual], pontos[ponto_inicial])\n",
        "\n",
        "        # Atualiza o menor caminho\n",
        "        if (peso_caminho_atual < peso_menor_caminho):\n",
        "            peso_menor_caminho = peso_caminho_atual\n",
        "            menor_caminho = list(caminho)\n",
        "\n",
        "    menor_caminho.insert(0, ponto_inicial)\n",
        "    menor_caminho.append(ponto_inicial)\n",
        "    # Troca os indices pelos nomes dos pontos\n",
        "    menor_caminho = processa_menor_caminho(menor_caminho)\n",
        "\n",
        "    return [menor_caminho, peso_menor_caminho]\n",
        "\n",
        "if __name__ == \"__main__\":\n",
        "\n",
        "    while True:\n",
        "        qtd_pontos = int(input('Digite a quantidade de pontos que deseja (ou 0 para sair): '))\n",
        "\n",
        "        if (qtd_pontos > 0):\n",
        "            pontos = cria_pontos(qtd_pontos)\n",
        "\n",
        "            ponto_inicial = input('Digite o ponto inicial:').upper()\n",
        "\n",
        "            for indice in range(qtd_pontos):\n",
        "                if (pontos[indice].nome == ponto_inicial):\n",
        "                    ponto_inicial = indice\n",
        "                    break\n",
        "\n",
        "            if (not isinstance(ponto_inicial, int)):\n",
        "                continue\n",
        "\n",
        "            inicio = time.time()\n",
        "\n",
        "            resultado = PCV(pontos, ponto_inicial)\n",
        "\n",
        "            fim = time.time()\n",
        "\n",
        "            print('Caminho mais curto: {}\\nDistância: {:.2f}'.format(resultado[0], resultado[1]))\n",
        "            print('Tempo de execução(em segundos): {}\\n\\n'.format((fim - inicio)))\n",
        "        else:\n",
        "            break"
      ],
      "execution_count": null,
      "outputs": []
    }
  ]
}